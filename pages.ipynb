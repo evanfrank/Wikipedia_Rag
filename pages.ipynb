{
 "cells": [
  {
   "cell_type": "code",
   "execution_count": 2,
   "metadata": {},
   "outputs": [],
   "source": [
    "import mwxml"
   ]
  },
  {
   "cell_type": "code",
   "execution_count": 3,
   "metadata": {},
   "outputs": [
    {
     "name": "stdout",
     "output_type": "stream",
     "text": [
      "Wikipedia enwiki\n"
     ]
    }
   ],
   "source": [
    "dump = mwxml.Dump.from_file(open(r\"Wikipidea-Rag\\wikipidea_rag\\data\\enwiki-20241101-pages-articles-multistream.xml\\enwiki-20241101-pages-articles-multistream.xml\", encoding=\"utf8\"))\n",
    "print(dump.site_info.name, dump.site_info.dbname)"
   ]
  },
  {
   "cell_type": "code",
   "execution_count": 17,
   "metadata": {},
   "outputs": [
    {
     "data": {
      "text/plain": [
       "SiteInfo(name='Wikipedia', dbname='enwiki', base='https://en.wikipedia.org/wiki/Main_Page', generator='MediaWiki 1.44.0-wmf.1', case='first-letter', namespaces=[Namespace(id=-2, name='Media', aliases=None, case='first-letter', canonical=None, content=None), Namespace(id=-1, name='Special', aliases=None, case='first-letter', canonical=None, content=None), Namespace(id=0, name='', aliases=None, case='first-letter', canonical=None, content=None), Namespace(id=1, name='Talk', aliases=None, case='first-letter', canonical=None, content=None), Namespace(id=2, name='User', aliases=None, case='first-letter', canonical=None, content=None), Namespace(id=3, name='User talk', aliases=None, case='first-letter', canonical=None, content=None), Namespace(id=4, name='Wikipedia', aliases=None, case='first-letter', canonical=None, content=None), Namespace(id=5, name='Wikipedia talk', aliases=None, case='first-letter', canonical=None, content=None), Namespace(id=6, name='File', aliases=None, case='first-letter', canonical=None, content=None), Namespace(id=7, name='File talk', aliases=None, case='first-letter', canonical=None, content=None), Namespace(id=8, name='MediaWiki', aliases=None, case='first-letter', canonical=None, content=None), Namespace(id=9, name='MediaWiki talk', aliases=None, case='first-letter', canonical=None, content=None), Namespace(id=10, name='Template', aliases=None, case='first-letter', canonical=None, content=None), Namespace(id=11, name='Template talk', aliases=None, case='first-letter', canonical=None, content=None), Namespace(id=12, name='Help', aliases=None, case='first-letter', canonical=None, content=None), Namespace(id=13, name='Help talk', aliases=None, case='first-letter', canonical=None, content=None), Namespace(id=14, name='Category', aliases=None, case='first-letter', canonical=None, content=None), Namespace(id=15, name='Category talk', aliases=None, case='first-letter', canonical=None, content=None), Namespace(id=100, name='Portal', aliases=None, case='first-letter', canonical=None, content=None), Namespace(id=101, name='Portal talk', aliases=None, case='first-letter', canonical=None, content=None), Namespace(id=118, name='Draft', aliases=None, case='first-letter', canonical=None, content=None), Namespace(id=119, name='Draft talk', aliases=None, case='first-letter', canonical=None, content=None), Namespace(id=126, name='MOS', aliases=None, case='first-letter', canonical=None, content=None), Namespace(id=127, name='MOS talk', aliases=None, case='first-letter', canonical=None, content=None), Namespace(id=710, name='TimedText', aliases=None, case='first-letter', canonical=None, content=None), Namespace(id=711, name='TimedText talk', aliases=None, case='first-letter', canonical=None, content=None), Namespace(id=828, name='Module', aliases=None, case='first-letter', canonical=None, content=None), Namespace(id=829, name='Module talk', aliases=None, case='first-letter', canonical=None, content=None)])"
      ]
     },
     "execution_count": 17,
     "metadata": {},
     "output_type": "execute_result"
    }
   ],
   "source": [
    "dump.site_info"
   ]
  },
  {
   "cell_type": "code",
   "execution_count": null,
   "metadata": {},
   "outputs": [
    {
     "data": {
      "text/plain": [
       "<function generator.throw>"
      ]
     },
     "execution_count": 5,
     "metadata": {},
     "output_type": "execute_result"
    }
   ],
   "source": [
    "dump.pages"
   ]
  },
  {
   "cell_type": "code",
   "execution_count": 14,
   "metadata": {},
   "outputs": [
    {
     "name": "stdout",
     "output_type": "stream",
     "text": [
      "ID: 15, Redirect:Demographics of Afghanistan, Title: AfghanistanPeople\n",
      "ID: 18, Redirect:Communications in Afghanistan, Title: AfghanistanCommunications\n",
      "ID: 19, Redirect:Transport in Afghanistan, Title: AfghanistanTransportations\n",
      "ID: 20, Redirect:Afghan Armed Forces, Title: AfghanistanMilitary\n",
      "ID: 21, Redirect:Foreign relations of Afghanistan, Title: AfghanistanTransnationalIssues\n",
      "ID: 23, Redirect:Assistive technology, Title: AssistiveTechnology\n",
      "ID: 24, Redirect:Amoeba, Title: AmoeboidTaxa\n",
      "ID: 25, Redirect:Autism, Title: Autism spectrum\n",
      "ID: 27, Redirect:History of Albania, Title: AlbaniaHistory\n",
      "ID: 29, Redirect:Demographics of Albania, Title: AlbaniaPeople\n",
      "ID: 30, Redirect:As We May Think, Title: AsWeMayThink\n",
      "ID: 35, Redirect:Politics of Albania, Title: AlbaniaGovernment\n",
      "ID: 36, Redirect:Economy of Albania, Title: AlbaniaEconomy\n",
      "ID: 39, Redirect:None, Title: Albedo\n",
      "ID: 40, Redirect:Afroasiatic languages, Title: AfroAsiaticLanguages\n",
      "ID: 42, Redirect:Constructed language, Title: ArtificalLanguages\n",
      "ID: 46, Redirect:Abacus, Title: AbacuS\n",
      "ID: 47, Redirect:Abalone, Title: AbalonE\n",
      "ID: 48, Redirect:Abbadid dynasty, Title: ʿAbbādid\n",
      "ID: 49, Redirect:Abbess, Title: AbbesS\n",
      "ID: 50, Redirect:Abbeville, Title: AbbevilleFrance\n",
      "ID: 51, Redirect:Abbey, Title: AbbeY\n",
      "ID: 52, Redirect:Abbot, Title: AbboT\n",
      "ID: 53, Redirect:Abbreviation, Title: Abbreviations\n",
      "ID: 54, Redirect:Atlas Shrugged, Title: AtlasShrugged\n",
      "ID: 56, Redirect:Constructed language, Title: ArtificialLanguages\n",
      "ID: 58, Redirect:List of Atlas Shrugged characters, Title: AtlasShruggedCharacters\n",
      "ID: 59, Redirect:Atlas Shrugged, Title: AtlasShruggedCompanies\n",
      "ID: 60, Redirect:Atlas Shrugged, Title: AyersMusicPublishingCompany\n",
      "ID: 241, Redirect:African Americans, Title: AfricanAmericanPeople\n",
      "ID: 242, Redirect:Adolf Hitler, Title: AdolfHitler\n",
      "ID: 247, Redirect:Abecedarian, Title: AbeceDarians\n",
      "ID: 248, Redirect:Cain and Abel, Title: AbeL\n",
      "ID: 249, Redirect:Abensberg, Title: AbensbergGermany\n",
      "ID: 251, Redirect:Aberdeen, South Dakota, Title: AberdeenSouthDakota\n",
      "ID: 254, Redirect:Arthur Koestler, Title: ArthurKoestler\n",
      "ID: 255, Redirect:Ayn Rand, Title: AynRand\n",
      "ID: 256, Redirect:Alexander the Great, Title: AlexanderTheGreat\n",
      "ID: 258, Redirect:Anchorage, Alaska, Title: AnchorageAlaska\n",
      "ID: 259, Redirect:Logical form, Title: ArgumentForms\n",
      "ID: 260, Redirect:Existence of God, Title: ArgumentsForTheExistenceOfGod\n",
      "ID: 263, Redirect:Anarchy, Title: AnarchY\n",
      "ID: 264, Redirect:ASCII art, Title: AsciiArt\n",
      "ID: 269, Redirect:Academy Awards, Title: AcademyAwards\n",
      "ID: 270, Redirect:Academy Award for Best Picture, Title: AcademyAwards/BestPicture\n",
      "ID: 271, Redirect:Austrian German, Title: AustriaLanguage\n",
      "ID: 272, Redirect:Elitism, Title: AcademicElitism\n",
      "ID: 274, Redirect:Axiom of choice, Title: AxiomOfChoice\n",
      "ID: 276, Redirect:American football, Title: AmericanFootball\n",
      "ID: 278, Redirect:United States, Title: AmericA\n",
      "ID: 279, Redirect:Anna Kournikova, Title: AnnaKournikova\n",
      "ID: 280, Redirect:Andorra, Title: AndorrA\n",
      "ID: 287, Redirect:Austroasiatic languages, Title: AustroAsiaticLanguages\n",
      "ID: 289, Redirect:Lists of actors, Title: ActresseS\n",
      "ID: 290, Redirect:None, Title: A\n",
      "ID: 291, Redirect:Anarcho-capitalism, Title: AnarchoCapitalism\n",
      "ID: 293, Redirect:Anarcho-capitalism, Title: AnarchoCapitalists\n",
      "ID: 296, Redirect:Lists of actors, Title: ActressesS\n",
      "ID: 299, Redirect:An American in Paris, Title: AnAmericanInParis\n",
      "ID: 301, Redirect:Automorphism, Title: AutoMorphism\n",
      "ID: 302, Redirect:Action film, Title: ActionFilm\n",
      "ID: 303, Redirect:None, Title: Alabama\n",
      "ID: 304, Redirect:Africa, Title: AfricA\n",
      "ID: 305, Redirect:None, Title: Achilles\n",
      "ID: 306, Redirect:Statistics, Title: AppliedStatistics\n",
      "ID: 307, Redirect:None, Title: Abraham Lincoln\n",
      "ID: 308, Redirect:None, Title: Aristotle\n",
      "ID: 309, Redirect:None, Title: An American in Paris\n",
      "ID: 316, Redirect:None, Title: Academy Award for Best Production Design\n",
      "ID: 324, Redirect:None, Title: Academy Awards\n",
      "ID: 325, Redirect:Action film, Title: Action Film\n",
      "ID: 330, Redirect:None, Title: Actrius\n",
      "ID: 332, Redirect:None, Title: Animalia (book)\n",
      "ID: 334, Redirect:None, Title: International Atomic Time\n",
      "ID: 336, Redirect:None, Title: Altruism\n",
      "ID: 338, Redirect:Auto racing, Title: AutoRacing\n",
      "ID: 339, Redirect:None, Title: Ayn Rand\n",
      "ID: 340, Redirect:None, Title: Alain Connes\n",
      "ID: 344, Redirect:None, Title: Allan Dwan\n",
      "ID: 347, Redirect:Demographics of Algeria, Title: Algeria/People\n",
      "ID: 353, Redirect:Foreign relations of Algeria, Title: Algeria/Transnational Issues\n",
      "ID: 358, Redirect:None, Title: Algeria\n",
      "ID: 359, Redirect:None, Title: List of Atlas Shrugged characters\n",
      "ID: 369, Redirect:Atlas Shrugged, Title: Topics of note in Atlas Shrugged\n",
      "ID: 569, Redirect:None, Title: Anthropology\n",
      "ID: 572, Redirect:None, Title: Agricultural science\n",
      "ID: 573, Redirect:None, Title: Alchemy\n",
      "ID: 579, Redirect:None, Title: Alien\n",
      "ID: 580, Redirect:None, Title: Astronomer\n",
      "ID: 583, Redirect:Amoeba, Title: Ameboid stage\n",
      "ID: 586, Redirect:None, Title: ASCII\n",
      "ID: 589, Redirect:Ashmore and Cartier Islands, Title: Ashmore And Cartier Islands\n",
      "ID: 590, Redirect:None, Title: Austin\n",
      "ID: 593, Redirect:None, Title: Animation\n",
      "ID: 594, Redirect:None, Title: Apollo\n",
      "ID: 595, Redirect:None, Title: Andre Agassi\n",
      "ID: 596, Redirect:Artificial language, Title: Artificial languages\n",
      "ID: 597, Redirect:None, Title: Austroasiatic languages\n",
      "ID: 598, Redirect:Afroasiatic languages, Title: Afro-asiatic languages\n",
      "ID: 599, Redirect:None, Title: Afroasiatic languages\n",
      "ID: 600, Redirect:None, Title: Andorra\n",
      "ID: 609, Redirect:Foreign relations of Andorra, Title: Andorra/Transnational issues\n",
      "ID: 612, Redirect:None, Title: Arithmetic mean\n",
      "ID: 615, Redirect:None, Title: American Football Conference\n",
      "ID: 617, Redirect:Al Gore, Title: Albert Gore\n",
      "ID: 618, Redirect:An Enquiry Concerning Human Understanding, Title: AnEnquiryConcerningHumanUnderstanding\n",
      "ID: 620, Redirect:None, Title: Animal Farm\n",
      "ID: 621, Redirect:None, Title: Amphibian\n",
      "ID: 622, Redirect:Al Gore, Title: Albert Arnold Gore/Criticisms\n",
      "ID: 624, Redirect:None, Title: Alaska\n",
      "ID: 626, Redirect:Auteur, Title: Auteur Theory Film\n",
      "ID: 627, Redirect:None, Title: Agriculture\n",
      "ID: 628, Redirect:None, Title: Aldous Huxley\n",
      "ID: 629, Redirect:Abstract algebra, Title: Abstract Algebra\n",
      "ID: 630, Redirect:None, Title: Ada\n",
      "ID: 632, Redirect:None, Title: Aberdeen (disambiguation)\n",
      "ID: 633, Redirect:None, Title: Algae\n",
      "ID: 634, Redirect:None, Title: Analysis of variance\n",
      "ID: 635, Redirect:Analysis of variance, Title: ANOVA\n",
      "ID: 639, Redirect:None, Title: Alkane\n",
      "ID: 640, Redirect:None, Title: Appellate procedure in the United States\n",
      "ID: 642, Redirect:None, Title: Answer (law)\n",
      "ID: 643, Redirect:None, Title: Appellate court\n",
      "ID: 644, Redirect:Arithmetic logic unit, Title: Arithmetic and logic unit\n",
      "ID: 648, Redirect:Actor, Title: Actress\n",
      "ID: 649, Redirect:None, Title: Arraignment\n",
      "ID: 651, Redirect:None, Title: America the Beautiful\n",
      "ID: 653, Redirect:None, Title: Assistive technology\n",
      "ID: 654, Redirect:Computer accessibility, Title: Accessible computing\n",
      "ID: 655, Redirect:None, Title: Abacus\n",
      "ID: 656, Redirect:None, Title: Acid\n",
      "ID: 657, Redirect:None, Title: Bitumen\n",
      "ID: 659, Redirect:None, Title: American National Standards Institute\n",
      "ID: 661, Redirect:None, Title: Argument (disambiguation)\n",
      "ID: 662, Redirect:None, Title: Apollo 11\n",
      "ID: 663, Redirect:None, Title: Apollo 8\n",
      "ID: 664, Redirect:None, Title: Astronaut\n",
      "ID: 665, Redirect:None, Title: A Modest Proposal\n",
      "ID: 666, Redirect:None, Title: Alkali metal\n",
      "ID: 668, Redirect:Logical form, Title: Argument form\n",
      "ID: 669, Redirect:Allotropy, Title: Allotrope\n",
      "ID: 670, Redirect:None, Title: Alphabet\n",
      "ID: 673, Redirect:None, Title: Atomic number\n",
      "ID: 674, Redirect:None, Title: Anatomy\n",
      "ID: 675, Redirect:None, Title: Affirming the consequent\n",
      "ID: 676, Redirect:None, Title: Andrei Tarkovsky\n",
      "ID: 677, Redirect:None, Title: Ambiguity\n",
      "ID: 678, Redirect:None, Title: Abel\n",
      "ID: 679, Redirect:None, Title: Animal (disambiguation)\n",
      "ID: 680, Redirect:None, Title: Aardvark\n",
      "ID: 681, Redirect:None, Title: Aardwolf\n",
      "ID: 682, Redirect:None, Title: Adobe\n",
      "ID: 683, Redirect:None, Title: Adventure\n",
      "ID: 686, Redirect:Amalthea (mythology), Title: Amaltheia\n",
      "ID: 687, Redirect:Analysis of variance, Title: Analysis of Variance\n",
      "ID: 689, Redirect:None, Title: Asia\n",
      "ID: 690, Redirect:None, Title: Aruba\n",
      "ID: 691, Redirect:None, Title: Articles of Confederation\n",
      "ID: 693, Redirect:Broch, Title: Archaeology/Broch\n",
      "ID: 694, Redirect:None, Title: Asia Minor (disambiguation)\n",
      "ID: 696, Redirect:AA, Title: Aa River\n",
      "ID: 698, Redirect:None, Title: Atlantic Ocean\n",
      "ID: 700, Redirect:None, Title: Arthur Schopenhauer\n",
      "ID: 701, Redirect:None, Title: Angola\n",
      "ID: 704, Redirect:None, Title: Demographics of Angola\n",
      "ID: 705, Redirect:None, Title: Politics of Angola\n",
      "ID: 706, Redirect:None, Title: Economy of Angola\n",
      "ID: 708, Redirect:None, Title: Transport in Angola\n",
      "ID: 709, Redirect:None, Title: Angolan Armed Forces\n",
      "ID: 710, Redirect:None, Title: Foreign relations of Angola\n",
      "ID: 711, Redirect:None, Title: Albert Sidney Johnston\n",
      "ID: 713, Redirect:None, Title: Android (robot)\n",
      "ID: 717, Redirect:None, Title: Alberta\n",
      "ID: 724, Redirect:Wikipedia:Nupedia and Wikipedia, Title: Adding Wikipedia articles to Nupedia\n",
      "ID: 727, Redirect:History of astronomy, Title: Astronomy/History\n",
      "ID: 728, Redirect:None, Title: List of anthropologists\n",
      "ID: 731, Redirect:History of astronomy, Title: Astronomy and Astrophysics/History\n",
      "ID: 734, Redirect:None, Title: Actinopterygii\n",
      "ID: 735, Redirect:Al Gore, Title: Al Gore/Criticisms\n",
      "ID: 736, Redirect:None, Title: Albert Einstein\n",
      "ID: 737, Redirect:None, Title: Afghanistan\n",
      "ID: 738, Redirect:None, Title: Albania\n",
      "ID: 740, Redirect:None, Title: Allah\n",
      "ID: 742, Redirect:None, Title: Algorithms (journal)\n",
      "ID: 743, Redirect:Antigua and Barbuda, Title: Antigua And Barbuda\n",
      "ID: 746, Redirect:None, Title: Azerbaijan\n",
      "ID: 748, Redirect:None, Title: Amateur astronomy\n",
      "ID: 749, Redirect:Astronomer, Title: Astronomers and Astrophysicists\n",
      "ID: 751, Redirect:None, Title: Aikido\n",
      "ID: 752, Redirect:None, Title: Art\n",
      "ID: 755, Redirect:History of Albania, Title: Albania/History\n",
      "ID: 758, Redirect:Foreign relations of Albania, Title: Albania/Transnational Issues\n",
      "ID: 759, Redirect:Demographics of Albania, Title: Albania/People\n",
      "ID: 763, Redirect:Foreign relations of Albania, Title: Albania/Foreign relations\n",
      "ID: 764, Redirect:None, Title: Agnostida\n",
      "ID: 765, Redirect:None, Title: Abortion\n",
      "ID: 766, Redirect:None, Title: Abstract (law)\n",
      "ID: 767, Redirect:A. E. van Vogt, Title: A.E. van Vogt\n",
      "ID: 771, Redirect:None, Title: American Revolutionary War\n",
      "ID: 772, Redirect:None, Title: Ampere\n",
      "ID: 775, Redirect:None, Title: Algorithm\n"
     ]
    }
   ],
   "source": [
    "for index, page in enumerate(dump.pages):\n",
    "    print(f\"ID: {page.id}, Redirect:{ page.redirect}, Title: {page.title}\")\n",
    "    #for revision in page:\n",
    "    #    print(revision.link)\n",
    "    if index == 200:\n",
    "        break"
   ]
  },
  {
   "cell_type": "code",
   "execution_count": 15,
   "metadata": {},
   "outputs": [
    {
     "data": {
      "text/plain": [
       "<generator object Dump.__init__.<locals>.<genexpr> at 0x0000024C263BDC40>"
      ]
     },
     "execution_count": 15,
     "metadata": {},
     "output_type": "execute_result"
    }
   ],
   "source": [
    "iter(dump.pages)"
   ]
  }
 ],
 "metadata": {
  "kernelspec": {
   "display_name": ".venv",
   "language": "python",
   "name": "python3"
  },
  "language_info": {
   "codemirror_mode": {
    "name": "ipython",
    "version": 3
   },
   "file_extension": ".py",
   "mimetype": "text/x-python",
   "name": "python",
   "nbconvert_exporter": "python",
   "pygments_lexer": "ipython3",
   "version": "3.12.9"
  }
 },
 "nbformat": 4,
 "nbformat_minor": 2
}
