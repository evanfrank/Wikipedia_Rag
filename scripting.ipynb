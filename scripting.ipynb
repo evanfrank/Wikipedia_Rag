{
 "cells": [
  {
   "cell_type": "code",
   "execution_count": 7,
   "metadata": {},
   "outputs": [],
   "source": [
    "import mwxml\n",
    "import pandas as pd\n",
    "import pprint\n",
    "import wikitextparser as wtp"
   ]
  },
  {
   "cell_type": "code",
   "execution_count": null,
   "metadata": {},
   "outputs": [
    {
     "name": "stdout",
     "output_type": "stream",
     "text": [
      "Wikipedia enwiki\n"
     ]
    }
   ],
   "source": [
    "dump = mwxml.Dump.from_file(open(r\"Wikipidea-Rag\\wikipidea_rag\\data\\enwiki-20241101-pages-articles-multistream.xml\\enwiki-20241101-pages-articles-multistream.xml\", encoding=\"utf8\"))\n",
    "print(dump.site_info.name, dump.site_info.dbname)"
   ]
  },
  {
   "cell_type": "code",
   "execution_count": null,
   "metadata": {},
   "outputs": [],
   "source": [
    "dump = mwxml.Dump.from_file(open(r\"Wikipidea-Rag\\wikipidea_rag\\data\\enwiki-20241101-pages-articles-multistream.xml\\enwiki-20241101-pages-articles-multistream.xml\", encoding=\"utf8\"))\n",
    "\n",
    "page_id = []\n",
    "page_title = []\n",
    "page_namespace = []\n",
    "page_text = []\n",
    "section_titles= []\n",
    "section_text = []\n",
    "section_level = []\n",
    "section_page_id = []\n",
    "\n",
    "\n",
    "for index, page in enumerate(dump.pages):\n",
    "    #print(f\"ID: {page.id}, Redirect:{ page.redirect}, Title: {page.title}\")\n",
    "    if (page.redirect == None) & (page.namespace == 0):\n",
    "        for index2, revision in enumerate(page):\n",
    "            parsed = wtp.parse(revision.text)\n",
    "            for section in range(len(parsed.sections)):\n",
    "                section_level.append(parsed.sections[section].level)\n",
    "                section_titles.append(parsed.sections[section].title)\n",
    "                section_text.append(parsed.sections[section].plain_text())\n",
    "                section_page_id.append(page.id)\n",
    "            page_id.append(page.id)\n",
    "            page_title.append(page.title)            \n",
    "            if index2 == 1:\n",
    "                break\n",
    "    if index == 1000:\n",
    "                break\n"
   ]
  },
  {
   "cell_type": "code",
   "execution_count": 51,
   "metadata": {},
   "outputs": [],
   "source": [
    "page_data = pd.DataFrame({\"page_id\" : page_id,\n",
    "                            \"page_title\" : page_title,\n",
    "                            })"
   ]
  },
  {
   "cell_type": "code",
   "execution_count": 52,
   "metadata": {},
   "outputs": [],
   "source": [
    "section_data = pd.DataFrame({\"section_titles\": section_titles,\n",
    "                                \"section_text\": section_text,\n",
    "                                \"section_level\": section_level,\n",
    "                                \"section_page_id\": section_page_id\n",
    "                                })"
   ]
  },
  {
   "cell_type": "code",
   "execution_count": 53,
   "metadata": {},
   "outputs": [
    {
     "name": "stdout",
     "output_type": "stream",
     "text": [
      "<class 'pandas.core.frame.DataFrame'>\n",
      "RangeIndex: 14431 entries, 0 to 14430\n",
      "Data columns (total 4 columns):\n",
      " #   Column           Non-Null Count  Dtype \n",
      "---  ------           --------------  ----- \n",
      " 0   section_titles   13698 non-null  object\n",
      " 1   section_text     14431 non-null  object\n",
      " 2   section_level    14431 non-null  int64 \n",
      " 3   section_page_id  14431 non-null  int64 \n",
      "dtypes: int64(2), object(2)\n",
      "memory usage: 451.1+ KB\n"
     ]
    }
   ],
   "source": [
    "section_data.info()"
   ]
  },
  {
   "cell_type": "code",
   "execution_count": 48,
   "metadata": {},
   "outputs": [],
   "source": [
    "parsed = wtp.parse(page_text[0])\n",
    "\n",
    "section_titles= []\n",
    "section_text = []\n",
    "section_level = []\n",
    "\n",
    "for section in range(len(parsed.sections)):\n",
    "    section_level.append(parsed.sections[section].level)\n",
    "    section_titles.append(parsed.sections[section].title)\n",
    "    section_text.append(parsed.sections[section].plain_text())"
   ]
  },
  {
   "cell_type": "code",
   "execution_count": 47,
   "metadata": {},
   "outputs": [
    {
     "name": "stdout",
     "output_type": "stream",
     "text": [
      "('== Etymology, terminology, and definition ==\\n'\n",
      " '\\n'\n",
      " '\\n'\n",
      " '\\n'\n",
      " 'The etymological origin of anarchism is from the Ancient Greek anarkhia '\n",
      " '(ἀναρχία), meaning \"without a ruler\", composed of the prefix an- (\"without\") '\n",
      " 'and the word arkhos (\"leader\" or \"ruler\"). The suffix -ism denotes the '\n",
      " 'ideological current that favours anarchy. Anarchism appears in English from '\n",
      " '1642 as anarchisme and anarchy from 1539; early English usages emphasised a '\n",
      " 'sense of disorder. Various factions within the French Revolution labelled '\n",
      " 'their opponents as anarchists, although few such accused shared many views '\n",
      " 'with later anarchists. Many revolutionaries of the 19th century such as '\n",
      " 'William Godwin (1756–1836) and Wilhelm Weitling (1808–1871) would contribute '\n",
      " 'to the anarchist doctrines of the next generation but did not use anarchist '\n",
      " 'or anarchism in describing themselves or their beliefs.\\n'\n",
      " '\\n'\n",
      " 'The first political philosopher to call himself an anarchist () was '\n",
      " 'Pierre-Joseph Proudhon (1809–1865), marking the formal birth of anarchism in '\n",
      " 'the mid-19th century. Since the 1890s and beginning in France, '\n",
      " 'libertarianism has often been used as a synonym for anarchism; its use as a '\n",
      " 'synonym is still common outside the United States. Some usages of '\n",
      " 'libertarianism refer to individualistic free-market philosophy only, and '\n",
      " 'free-market anarchism in particular is termed libertarian anarchism.\\n'\n",
      " '\\n'\n",
      " 'While the term libertarian has been largely synonymous with anarchism, its '\n",
      " 'meaning has more recently been diluted by wider adoption from ideologically '\n",
      " 'disparate groups, including both the New Left and libertarian Marxists, who '\n",
      " 'do not associate themselves with authoritarian socialists or a vanguard '\n",
      " 'party, and extreme cultural liberals, who are primarily concerned with civil '\n",
      " 'liberties. Additionally, some anarchists use libertarian socialist to avoid '\n",
      " \"anarchism's negative connotations and emphasise its connections with \"\n",
      " 'socialism. Anarchism is broadly used to describe the anti-authoritarian wing '\n",
      " 'of the socialist movement. Anarchism is contrasted to socialist forms which '\n",
      " 'are state-oriented or from above. Scholars of anarchism generally highlight '\n",
      " \"anarchism's socialist credentials and criticise attempts at creating \"\n",
      " 'dichotomies between the two. Some scholars describe anarchism as having many '\n",
      " 'influences from liberalism, and being both liberal and socialist but more '\n",
      " 'so. Many scholars reject anarcho-capitalism as a misunderstanding of '\n",
      " 'anarchist principles.\\n'\n",
      " '\\n'\n",
      " 'While opposition to the state is central to anarchist thought, defining '\n",
      " 'anarchism is not an easy task for scholars, as there is a lot of discussion '\n",
      " 'among scholars and anarchists on the matter, and various currents perceive '\n",
      " 'anarchism slightly differently. Major definitional elements include the will '\n",
      " 'for a non-coercive society, the rejection of the state apparatus, the belief '\n",
      " 'that human nature allows humans to exist in or progress toward such a '\n",
      " 'non-coercive society, and a suggestion on how to act to pursue the ideal of '\n",
      " 'anarchy.\\n'\n",
      " '\\n')\n"
     ]
    }
   ],
   "source": [
    "pprint.pprint(parsed.get_sections()[1].plain_text())"
   ]
  },
  {
   "cell_type": "code",
   "execution_count": 45,
   "metadata": {},
   "outputs": [
    {
     "data": {
      "text/plain": [
       "' Etymology, terminology, and definition '"
      ]
     },
     "execution_count": 45,
     "metadata": {},
     "output_type": "execute_result"
    }
   ],
   "source": [
    "parsed.get_sections()[1].title"
   ]
  },
  {
   "cell_type": "code",
   "execution_count": 16,
   "metadata": {},
   "outputs": [],
   "source": [
    "df = pd.DataFrame({\"section_titles\" : section_titles,\n",
    "                   \"section_text\" : section_text\n",
    "                   })"
   ]
  },
  {
   "cell_type": "code",
   "execution_count": 18,
   "metadata": {},
   "outputs": [
    {
     "name": "stdout",
     "output_type": "stream",
     "text": [
      "('{{Short description|Political philosophy and movement}}\\n'\n",
      " '{{Other uses|Anarchy|Anarchism (disambiguation)|Anarchist '\n",
      " '(disambiguation)}}\\n'\n",
      " '{{Pp-semi-indef}}\\n'\n",
      " '{{Good article}}\\n'\n",
      " '{{Use British English|date=August 2021}}\\n'\n",
      " '{{Use dmy dates|date=October 2024}}\\n'\n",
      " '{{Use shortened footnotes|date=May 2023}}\\n'\n",
      " '{{Anarchism sidebar}}\\n'\n",
      " '\\n'\n",
      " \"'''Anarchism''' is a [[political philosophy]] and [[Political \"\n",
      " 'movement|movement]] that is against all forms of authority and seeks to '\n",
      " 'abolish the institutions it claims maintain unnecessary coercion and '\n",
      " '[[Social hierarchy|hierarchy]], typically including the [[state '\n",
      " '(polity)|state]] and [[capitalism]]. Anarchism advocates for the replacement '\n",
      " 'of the state with [[Stateless society|stateless societies]] and voluntary '\n",
      " '[[Free association (communism and anarchism)|free associations]]. A '\n",
      " 'historically left-wing movement, anarchism is usually described as the '\n",
      " '[[libertarian]] wing of the [[socialist movement]] ([[libertarian '\n",
      " 'socialism]]).\\n'\n",
      " '\\n'\n",
      " 'Although traces of anarchist ideas are found all throughout history, modern '\n",
      " 'anarchism emerged from the [[Age of Enlightenment|Enlightenment]]. During '\n",
      " 'the latter half of the 19th and the first decades of the 20th century, the '\n",
      " 'anarchist movement flourished in most parts of the world and had a '\n",
      " \"significant role in [[Labour movement|workers' struggles]] for \"\n",
      " '[[emancipation]]. [[#Schools of thought|Various anarchist schools of '\n",
      " 'thought]] formed during this period. Anarchists have taken part in [[List of '\n",
      " 'revolutions and rebellions|several revolutions]], most notably in the '\n",
      " '[[Paris Commune]], the [[Russian Civil War]] and the [[Spanish Civil War]], '\n",
      " 'whose end marked the end of the [[classical era of anarchism]]. In the last '\n",
      " 'decades of the 20th and into the 21st century, the anarchist movement has '\n",
      " 'been resurgent once more, growing in popularity and influence within '\n",
      " '[[anti-capitalist]], [[anti-war]] and [[anti-globalisation]] movements.\\n'\n",
      " '\\n'\n",
      " 'Anarchists employ [[diversity of tactics|diverse approaches]], which may be '\n",
      " 'generally divided into [[revolutionary]] and [[evolutionary strategies]]; '\n",
      " 'there is significant overlap between the two. Evolutionary methods try to '\n",
      " 'simulate what an anarchist society might be like, but revolutionary tactics, '\n",
      " 'which have historically taken a [[Violent extremism|violent]] turn, aim to '\n",
      " 'overthrow authority and the state. Many facets of [[Civilization|human '\n",
      " 'civilization]] have been influenced by anarchist theory, critique, and '\n",
      " '[[Praxis (process)|praxis]].\\n'\n",
      " '{{Toc limit|3}}\\n'\n",
      " '\\n')\n"
     ]
    }
   ],
   "source": [
    "pprint.pprint(section_text[0])"
   ]
  },
  {
   "cell_type": "code",
   "execution_count": null,
   "metadata": {},
   "outputs": [],
   "source": [
    "df.info()"
   ]
  },
  {
   "cell_type": "code",
   "execution_count": null,
   "metadata": {},
   "outputs": [],
   "source": [
    "def page_info(dump, path):\n",
    "    for page in dump:\n",
    "        yield page.id, page.namespace, page.title"
   ]
  },
  {
   "cell_type": "code",
   "execution_count": null,
   "metadata": {},
   "outputs": [],
   "source": []
  }
 ],
 "metadata": {
  "kernelspec": {
   "display_name": ".venv",
   "language": "python",
   "name": "python3"
  },
  "language_info": {
   "codemirror_mode": {
    "name": "ipython",
    "version": 3
   },
   "file_extension": ".py",
   "mimetype": "text/x-python",
   "name": "python",
   "nbconvert_exporter": "python",
   "pygments_lexer": "ipython3",
   "version": "3.12.9"
  }
 },
 "nbformat": 4,
 "nbformat_minor": 2
}
